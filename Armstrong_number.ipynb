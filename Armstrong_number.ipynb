{
 "cells": [
  {
   "cell_type": "code",
   "execution_count": 5,
   "metadata": {},
   "outputs": [],
   "source": [
    "#Armstrong number\n",
    "def armstrong():\n",
    "    print(\"This code tells if a given number is an armstrong number\")\n",
    "    num = input(\"Enter a number: \")\n",
    "    length = len(num)\n",
    "    if length == 1:\n",
    "        print(\"The number {x} is an armstrong number\".format(x = num))\n",
    "        print(\"Single numbers are armstrong numbers\")\n",
    "    else:\n",
    "        arm_num = 0\n",
    "        for n in num:\n",
    "            arm_num += int(n) ** length\n",
    "        if arm_num == int(num):\n",
    "            print(\"The number {x} is an ARMSTRONG NUMBER\".format(x = num))\n",
    "        else:\n",
    "            print(\"The number {x} is not an ARMSTRONG NUMBER\".format(x = num))"
   ]
  },
  {
   "cell_type": "code",
   "execution_count": 12,
   "metadata": {},
   "outputs": [
    {
     "name": "stdout",
     "output_type": "stream",
     "text": [
      "This code tells if a given number is an armstrong number\n",
      "Enter a number: 1634\n",
      "The number 1634 is an ARMSTRONG NUMBER\n"
     ]
    }
   ],
   "source": [
    "armstrong()"
   ]
  }
 ],
 "metadata": {
  "kernelspec": {
   "display_name": "Python(DataScience)",
   "language": "python",
   "name": "datascience"
  },
  "language_info": {
   "codemirror_mode": {
    "name": "ipython",
    "version": 3
   },
   "file_extension": ".py",
   "mimetype": "text/x-python",
   "name": "python",
   "nbconvert_exporter": "python",
   "pygments_lexer": "ipython3",
   "version": "3.7.6"
  }
 },
 "nbformat": 4,
 "nbformat_minor": 4
}
