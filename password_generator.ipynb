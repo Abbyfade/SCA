{
 "cells": [
  {
   "cell_type": "code",
   "execution_count": 58,
   "metadata": {},
   "outputs": [],
   "source": [
    "import string\n",
    "import random\n",
    "def password_generator(x):\n",
    "    lower = list(string.ascii_lowercase)\n",
    "    upper = list(string.ascii_uppercase)\n",
    "    numbers = [n for n in range(10)]\n",
    "    password = \"\"\n",
    "    array_of_password_chr = []\n",
    "    \n",
    "    array_of_password_chr.extend(lower)\n",
    "    array_of_password_chr.extend(upper)\n",
    "    array_of_password_chr.extend(numbers)\n",
    "    for i in range(x):\n",
    "        password += str(random.choice(array_of_password_chr))\n",
    "    return f\"Password is {password}\""
   ]
  },
  {
   "cell_type": "code",
   "execution_count": 59,
   "metadata": {},
   "outputs": [
    {
     "name": "stdout",
     "output_type": "stream",
     "text": [
      "Enter password length as an integer: i\n",
      "ERROR! You didn't enter an integer\n",
      "Enter password length as an integer: 9\n",
      "Password is WzKg7TXNX\n"
     ]
    }
   ],
   "source": [
    "check = True\n",
    "while check:\n",
    "    char = input(\"Enter password length as an integer: \")\n",
    "    try:\n",
    "        if int(char) < int(8):\n",
    "            print(\"the password is weak\")\n",
    "            continue\n",
    "        else:\n",
    "            print(password_generator(int(char)))\n",
    "            break\n",
    "    except:\n",
    "        print(\"ERROR! You didn't enter an integer\")\n",
    "        continue"
   ]
  }
 ],
 "metadata": {
  "kernelspec": {
   "display_name": "Python 3",
   "language": "python",
   "name": "python3"
  },
  "language_info": {
   "codemirror_mode": {
    "name": "ipython",
    "version": 3
   },
   "file_extension": ".py",
   "mimetype": "text/x-python",
   "name": "python",
   "nbconvert_exporter": "python",
   "pygments_lexer": "ipython3",
   "version": "3.7.6"
  }
 },
 "nbformat": 4,
 "nbformat_minor": 2
}
